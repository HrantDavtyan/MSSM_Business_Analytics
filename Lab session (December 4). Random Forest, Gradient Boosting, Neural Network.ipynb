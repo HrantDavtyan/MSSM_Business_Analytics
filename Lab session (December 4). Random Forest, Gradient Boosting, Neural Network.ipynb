{
 "cells": [
  {
   "cell_type": "markdown",
   "metadata": {},
   "source": [
    "# Random Forest, Gradient Boosting, Neural Network"
   ]
  },
  {
   "cell_type": "code",
   "execution_count": 3,
   "metadata": {},
   "outputs": [],
   "source": [
    "import numpy as np\n",
    "import pandas as pd\n",
    "import matplotlib.pyplot as plt\n",
    "import seaborn as sns\n",
    "from sklearn.tree import DecisionTreeClassifier\n",
    "from sklearn.model_selection import train_test_split, cross_val_score, GridSearchCV\n",
    "from sklearn.ensemble import RandomForestClassifier, GradientBoostingClassifier\n",
    "from sklearn.metrics import * #import all metrics\n",
    "from sklearn.neural_network import MLPClassifier"
   ]
  },
  {
   "cell_type": "code",
   "execution_count": 4,
   "metadata": {},
   "outputs": [],
   "source": [
    "data=pd.read_excel(\"Churn.xls\")"
   ]
  },
  {
   "cell_type": "code",
   "execution_count": 5,
   "metadata": {},
   "outputs": [
    {
     "name": "stdout",
     "output_type": "stream",
     "text": [
      "<class 'pandas.core.frame.DataFrame'>\n",
      "RangeIndex: 3333 entries, 0 to 3332\n",
      "Data columns (total 21 columns):\n",
      "Account Length    3333 non-null int64\n",
      "VMail Message     3333 non-null int64\n",
      "Day Mins          3333 non-null float64\n",
      "Eve Mins          3333 non-null float64\n",
      "Night Mins        3333 non-null float64\n",
      "Intl Mins         3333 non-null float64\n",
      "CustServ Calls    3333 non-null int64\n",
      "Churn             3333 non-null int64\n",
      "Int'l Plan        3333 non-null int64\n",
      "VMail Plan        3333 non-null int64\n",
      "Day Calls         3333 non-null int64\n",
      "Day Charge        3333 non-null float64\n",
      "Eve Calls         3333 non-null int64\n",
      "Eve Charge        3333 non-null float64\n",
      "Night Calls       3333 non-null int64\n",
      "Night Charge      3333 non-null float64\n",
      "Intl Calls        3333 non-null int64\n",
      "Intl Charge       3333 non-null float64\n",
      "State             3333 non-null object\n",
      "Area Code         3333 non-null int64\n",
      "Phone             3333 non-null object\n",
      "dtypes: float64(8), int64(11), object(2)\n",
      "memory usage: 546.9+ KB\n"
     ]
    }
   ],
   "source": [
    "data.info()"
   ]
  },
  {
   "cell_type": "code",
   "execution_count": 6,
   "metadata": {},
   "outputs": [
    {
     "data": {
      "text/plain": [
       "Account Length    False\n",
       "VMail Message     False\n",
       "Day Mins          False\n",
       "Eve Mins          False\n",
       "Night Mins        False\n",
       "Intl Mins         False\n",
       "CustServ Calls    False\n",
       "Churn             False\n",
       "Int'l Plan        False\n",
       "VMail Plan        False\n",
       "Day Calls         False\n",
       "Day Charge        False\n",
       "Eve Calls         False\n",
       "Eve Charge        False\n",
       "Night Calls       False\n",
       "Night Charge      False\n",
       "Intl Calls        False\n",
       "Intl Charge       False\n",
       "Area Code         False\n",
       "dtype: bool"
      ]
     },
     "execution_count": 6,
     "metadata": {},
     "output_type": "execute_result"
    }
   ],
   "source": [
    "data.var()==0 #no column with 0 var"
   ]
  },
  {
   "cell_type": "code",
   "execution_count": 7,
   "metadata": {},
   "outputs": [
    {
     "data": {
      "text/plain": [
       "0"
      ]
     },
     "execution_count": 7,
     "metadata": {},
     "output_type": "execute_result"
    }
   ],
   "source": [
    "#if # of columns is big, we can check using sum() function\n",
    "sum(data.var()==0) "
   ]
  },
  {
   "cell_type": "code",
   "execution_count": 8,
   "metadata": {},
   "outputs": [
    {
     "data": {
      "text/plain": [
       "0"
      ]
     },
     "execution_count": 8,
     "metadata": {},
     "output_type": "execute_result"
    }
   ],
   "source": [
    "#can be without sum\n",
    "sum(data.isna().any()) "
   ]
  },
  {
   "cell_type": "code",
   "execution_count": 9,
   "metadata": {},
   "outputs": [],
   "source": [
    "#let's check for unique number of categories for object variables\n",
    "#we see there is no output printed which means we don't have a categorical variable with only one category\n",
    "for i in data.columns:\n",
    "    if len(data[i].unique())==1:\n",
    "        print(i)"
   ]
  },
  {
   "cell_type": "code",
   "execution_count": 10,
   "metadata": {},
   "outputs": [],
   "source": [
    "#let's drop Phone, Area Code(we have already state) as these variables don't give any useful information\n",
    "data.drop([\"Area Code\",\"Phone\"],axis=1,inplace=True)"
   ]
  },
  {
   "cell_type": "code",
   "execution_count": 11,
   "metadata": {},
   "outputs": [
    {
     "name": "stdout",
     "output_type": "stream",
     "text": [
      "(3333, 19)\n"
     ]
    }
   ],
   "source": [
    "#to check whether all calculations are correct\n",
    "print(data.shape)"
   ]
  },
  {
   "cell_type": "code",
   "execution_count": 12,
   "metadata": {},
   "outputs": [],
   "source": [
    "#let's create dummy variables, we didn't separate object variabes as pd.get_dummies() function gets only objects\n",
    "data=pd.get_dummies(data, drop_first=True)"
   ]
  },
  {
   "cell_type": "code",
   "execution_count": 13,
   "metadata": {},
   "outputs": [
    {
     "name": "stdout",
     "output_type": "stream",
     "text": [
      "(3333, 68)\n"
     ]
    }
   ],
   "source": [
    "print(data.shape) #now we have more columns (68 instead of 19) because of dummy variables were created"
   ]
  },
  {
   "cell_type": "code",
   "execution_count": 14,
   "metadata": {},
   "outputs": [],
   "source": [
    "#let's create Y and X variables\n",
    "Y=data.Churn\n",
    "X=data.drop(\"Churn\",axis=1)"
   ]
  },
  {
   "cell_type": "code",
   "execution_count": 15,
   "metadata": {},
   "outputs": [],
   "source": [
    "#let's do train test split\n",
    "X0,X1,Y0,Y1=train_test_split(X,Y,test_size=0.25,random_state=42)"
   ]
  },
  {
   "cell_type": "code",
   "execution_count": 16,
   "metadata": {},
   "outputs": [],
   "source": [
    "#let's run models\n",
    "DT=DecisionTreeClassifier(random_state=42)\n",
    "RF=RandomForestClassifier(random_state=42)\n",
    "GB=GradientBoostingClassifier(random_state=42)"
   ]
  },
  {
   "cell_type": "code",
   "execution_count": 17,
   "metadata": {},
   "outputs": [],
   "source": [
    "#let's create dictionaries for models and scores in order to be able to see summary of the results of all models together\n",
    "models={\"Decision Tree\": DT, \n",
    "        \"Random Forest\": RF,\n",
    "        \"GradientBoosting\":GB}\n",
    "scores={\"Accuracy\": accuracy_score,\n",
    "        \"ROC AUC\": roc_auc_score,\n",
    "       \"Recall\": recall_score}"
   ]
  },
  {
   "cell_type": "code",
   "execution_count": 18,
   "metadata": {},
   "outputs": [
    {
     "name": "stdout",
     "output_type": "stream",
     "text": [
      "\n",
      " Decision Tree\n",
      "Accuracy 92.0\n",
      "ROC AUC 85.0\n",
      "Recall 74.0\n",
      "\n",
      " Random Forest\n",
      "Accuracy 93.0\n",
      "ROC AUC 78.0\n",
      "Recall 56.99999999999999\n",
      "\n",
      " GradientBoosting\n",
      "Accuracy 95.0\n",
      "ROC AUC 85.0\n",
      "Recall 72.0\n"
     ]
    }
   ],
   "source": [
    "#let's use for loop to fit models and print metrics for each model\n",
    "for model_name, model in models.items():\n",
    "    print(\"\\n\",model_name)\n",
    "    model.fit(X0,Y0)\n",
    "    prediction=model.predict(X1)\n",
    "    for score_name, score in scores.items():\n",
    "        print(score_name,score(Y1,prediction).round(2)*100)"
   ]
  },
  {
   "cell_type": "code",
   "execution_count": 19,
   "metadata": {},
   "outputs": [],
   "source": [
    "#lET'S USE BALANCED MODELS and change hyperparameters (GridSearchCv can also be used)\n",
    "DT2=DecisionTreeClassifier(random_state=42,class_weight=\"balanced\",max_depth=5)\n",
    "RF2=RandomForestClassifier(random_state=42,class_weight=\"balanced\",max_depth=5,n_estimators=300)\n",
    "GB2=GradientBoostingClassifier(random_state=42) #no class weight\n",
    "NN=MLPClassifier(random_state=42)"
   ]
  },
  {
   "cell_type": "code",
   "execution_count": 20,
   "metadata": {},
   "outputs": [],
   "source": [
    "#let's create new dictionaries for models and scores\n",
    "models2={\"Decision Tree\": DT2, \n",
    "        \"Random Forest\": RF2,\n",
    "        \"GradientBoosting\":GB2,\n",
    "        \"Neural network\":NN}\n",
    "scores2={\"Accuracy\": accuracy_score,\n",
    "        \"ROC AUC\": roc_auc_score,\n",
    "       \"Recall\": recall_score}"
   ]
  },
  {
   "cell_type": "code",
   "execution_count": 21,
   "metadata": {},
   "outputs": [
    {
     "name": "stdout",
     "output_type": "stream",
     "text": [
      "\n",
      " Decision Tree\n",
      "Accuracy 94.0\n",
      "ROC AUC 88.0\n",
      "Recall 80.0\n",
      "\n",
      " Random Forest\n",
      "Accuracy 91.0\n",
      "ROC AUC 88.0\n",
      "Recall 82.0\n",
      "\n",
      " GradientBoosting\n",
      "Accuracy 95.0\n",
      "ROC AUC 85.0\n",
      "Recall 72.0\n",
      "\n",
      " Neural network\n",
      "Accuracy 85.0\n",
      "ROC AUC 54.0\n",
      "Recall 10.0\n"
     ]
    }
   ],
   "source": [
    "#let's use for loop to fit models and print metrics for each model\n",
    "for model_name, model in models2.items():\n",
    "    print(\"\\n\",model_name)\n",
    "    model.fit(X0,Y0)\n",
    "    prediction=model.predict(X1)\n",
    "    for score_name, score in scores2.items():\n",
    "        print(score_name,score(Y1,prediction).round(2)*100)"
   ]
  },
  {
   "cell_type": "code",
   "execution_count": null,
   "metadata": {},
   "outputs": [],
   "source": []
  }
 ],
 "metadata": {
  "kernelspec": {
   "display_name": "Python 3",
   "language": "python",
   "name": "python3"
  },
  "language_info": {
   "codemirror_mode": {
    "name": "ipython",
    "version": 3
   },
   "file_extension": ".py",
   "mimetype": "text/x-python",
   "name": "python",
   "nbconvert_exporter": "python",
   "pygments_lexer": "ipython3",
   "version": "3.7.0"
  }
 },
 "nbformat": 4,
 "nbformat_minor": 2
}
