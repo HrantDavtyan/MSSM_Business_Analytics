{
 "cells": [
  {
   "cell_type": "markdown",
   "metadata": {},
   "source": [
    "# Midterm exam - Python component - Solution key"
   ]
  },
  {
   "cell_type": "code",
   "execution_count": 4,
   "metadata": {
    "collapsed": true
   },
   "outputs": [],
   "source": [
    "import quandl #econ data\n",
    "\n",
    "import numpy as np #math functions\n",
    "import pandas as pd #dataframes\n",
    "\n",
    "import seaborn as sns #plotting\n",
    "import matplotlib.pyplot as plt #plotting"
   ]
  },
  {
   "cell_type": "markdown",
   "metadata": {},
   "source": [
    "# Problem 1\n",
    "\n",
    "Use Quandl with your API key to get **annual** data on US GDP (Quandl code: FRED/GDP, Collapse: annual).\n",
    " - What was the percentage change of GDP on 1997?\n",
    " - Plot the distribution of percentage changes in GDP."
   ]
  },
  {
   "cell_type": "code",
   "execution_count": 13,
   "metadata": {},
   "outputs": [
    {
     "name": "stdout",
     "output_type": "stream",
     "text": [
      "               Value\n",
      "Date                \n",
      "1997-12-31  0.060485\n"
     ]
    },
    {
     "data": {
      "image/png": "[encoded data removed]",
      "text/plain": [
       "<matplotlib.figure.Figure at 0xc5fcba8>"
      ]
     },
     "metadata": {},
     "output_type": "display_data"
    }
   ],
   "source": [
    "gdp_data = quandl.get(\"FRED/GDP\",collapse=\"annual\") #get data\n",
    "change = gdp_data.pct_change() #calculate the % change\n",
    "change = change.dropna() #drop the missing value\n",
    "\n",
    "print(change[\"1997\"]) #0.060485\n",
    "sns.distplot(change) #plot\n",
    "plt.show() #show the plot"
   ]
  },
  {
   "cell_type": "markdown",
   "metadata": {},
   "source": [
    "# Problem 2\n",
    "\n",
    "```names = [\"Patrick\",\"Xavier\",\"Abigayle\"]```\n",
    "\n",
    "- Print the first character in each name from the **names** list above using **for** loop.\n",
    "- Complete the task using while loop as well."
   ]
  },
  {
   "cell_type": "code",
   "execution_count": 17,
   "metadata": {},
   "outputs": [
    {
     "name": "stdout",
     "output_type": "stream",
     "text": [
      "P\n",
      "X\n",
      "A\n",
      "-------------------------------\n",
      "P\n",
      "X\n",
      "A\n"
     ]
    }
   ],
   "source": [
    "#creating the list\n",
    "names = [\"Patrick\",\"Xavier\",\"Abigayle\"]\n",
    "#solution using for\n",
    "for i in names:\n",
    "    print(i[0])\n",
    "\n",
    "print(\"-------------------------------\")\n",
    "\n",
    "#solution using while\n",
    "i=0\n",
    "while i<len(names):\n",
    "    print(names[i][0])\n",
    "    i = i + 1"
   ]
  },
  {
   "cell_type": "markdown",
   "metadata": {},
   "source": [
    "# Problem 3\n",
    "\n",
    "Define a function that will take a list of 5 numbers as input and calculate average of the last 3."
   ]
  },
  {
   "cell_type": "code",
   "execution_count": 20,
   "metadata": {
    "collapsed": true
   },
   "outputs": [],
   "source": [
    "def avg_3(x):\n",
    "    return sum(x[-3:])/3"
   ]
  },
  {
   "cell_type": "markdown",
   "metadata": {},
   "source": [
    "# Problem 4\n",
    "\n",
    "Download the **Superstore.xlsx** file from Moodle and read it using pandas. Calculate the percentage of orders that have **First Class** shipping mode."
   ]
  },
  {
   "cell_type": "code",
   "execution_count": 23,
   "metadata": {},
   "outputs": [
    {
     "name": "stdout",
     "output_type": "stream",
     "text": [
      "Standard Class    59.715829\n",
      "Second Class      19.461677\n",
      "First Class       15.389234\n",
      "Same Day           5.433260\n",
      "Name: Ship Mode, dtype: float64\n"
     ]
    }
   ],
   "source": [
    "data = pd.read_excel(\"Superstore.xlsx\",sheetname=1)\n",
    "print(data[\"Ship Mode\"].value_counts()/len(data)*100)"
   ]
  },
  {
   "cell_type": "markdown",
   "metadata": {},
   "source": [
    "# Problem 5\n",
    "\n",
    "Use the same dataset from Problem 4. Create a new column **Segment_codes** in the dataframe that will have value 1, if the customer is **Individual** and 0 otherwise (**Corporate**)."
   ]
  },
  {
   "cell_type": "code",
   "execution_count": 30,
   "metadata": {},
   "outputs": [
    {
     "data": {
      "text/html": [
       "<div>\n",
       "<style>\n",
       "    .dataframe thead tr:only-child th {\n",
       "        text-align: right;\n",
       "    }\n",
       "\n",
       "    .dataframe thead th {\n",
       "        text-align: left;\n",
       "    }\n",
       "\n",
       "    .dataframe tbody tr th {\n",
       "        vertical-align: top;\n",
       "    }\n",
       "</style>\n",
       "<table border=\"1\" class=\"dataframe\">\n",
       "  <thead>\n",
       "    <tr style=\"text-align: right;\">\n",
       "      <th></th>\n",
       "      <th>Order ID</th>\n",
       "      <th>Order Date</th>\n",
       "      <th>Ship Date</th>\n",
       "      <th>Ship Mode</th>\n",
       "      <th>Segment</th>\n",
       "      <th>State</th>\n",
       "      <th>Category</th>\n",
       "      <th>Profit</th>\n",
       "      <th>Year_1</th>\n",
       "      <th>Year_2</th>\n",
       "      <th>Year_1-Year_2</th>\n",
       "      <th>Returned</th>\n",
       "      <th>Profit_class</th>\n",
       "      <th>Segment_codes</th>\n",
       "    </tr>\n",
       "  </thead>\n",
       "  <tbody>\n",
       "    <tr>\n",
       "      <th>0</th>\n",
       "      <td>CA-2016-152156</td>\n",
       "      <td>42682</td>\n",
       "      <td>42685</td>\n",
       "      <td>Second Class</td>\n",
       "      <td>Individual</td>\n",
       "      <td>Kentucky</td>\n",
       "      <td>Furniture</td>\n",
       "      <td>41.9136</td>\n",
       "      <td>NaN</td>\n",
       "      <td>NaN</td>\n",
       "      <td>NaN</td>\n",
       "      <td>NaN</td>\n",
       "      <td>NaN</td>\n",
       "      <td>1</td>\n",
       "    </tr>\n",
       "    <tr>\n",
       "      <th>1</th>\n",
       "      <td>CA-2016-152156</td>\n",
       "      <td>42682</td>\n",
       "      <td>42685</td>\n",
       "      <td>Second Class</td>\n",
       "      <td>Individual</td>\n",
       "      <td>Kentucky</td>\n",
       "      <td>Furniture</td>\n",
       "      <td>219.5820</td>\n",
       "      <td>NaN</td>\n",
       "      <td>NaN</td>\n",
       "      <td>NaN</td>\n",
       "      <td>NaN</td>\n",
       "      <td>NaN</td>\n",
       "      <td>1</td>\n",
       "    </tr>\n",
       "    <tr>\n",
       "      <th>2</th>\n",
       "      <td>CA-2016-138688</td>\n",
       "      <td>42533</td>\n",
       "      <td>42537</td>\n",
       "      <td>Second Class</td>\n",
       "      <td>Corporate</td>\n",
       "      <td>California</td>\n",
       "      <td>Office Supplies</td>\n",
       "      <td>6.8714</td>\n",
       "      <td>NaN</td>\n",
       "      <td>NaN</td>\n",
       "      <td>NaN</td>\n",
       "      <td>NaN</td>\n",
       "      <td>NaN</td>\n",
       "      <td>0</td>\n",
       "    </tr>\n",
       "  </tbody>\n",
       "</table>\n",
       "</div>"
      ],
      "text/plain": [
       "         Order ID  Order Date  Ship Date     Ship Mode     Segment  \\\n",
       "0  CA-2016-152156       42682      42685  Second Class  Individual   \n",
       "1  CA-2016-152156       42682      42685  Second Class  Individual   \n",
       "2  CA-2016-138688       42533      42537  Second Class   Corporate   \n",
       "\n",
       "        State         Category    Profit  Year_1  Year_2  Year_1-Year_2  \\\n",
       "0    Kentucky        Furniture   41.9136     NaN     NaN            NaN   \n",
       "1    Kentucky        Furniture  219.5820     NaN     NaN            NaN   \n",
       "2  California  Office Supplies    6.8714     NaN     NaN            NaN   \n",
       "\n",
       "   Returned  Profit_class  Segment_codes  \n",
       "0       NaN           NaN              1  \n",
       "1       NaN           NaN              1  \n",
       "2       NaN           NaN              0  "
      ]
     },
     "execution_count": 30,
     "metadata": {},
     "output_type": "execute_result"
    }
   ],
   "source": [
    "data[\"Segment_codes\"] = np.where(data.Segment==\"Corporate\",0,1)\n",
    "data.head(3)"
   ]
  }
 ],
 "metadata": {
  "kernelspec": {
   "display_name": "Python 3",
   "language": "python",
   "name": "python3"
  },
  "language_info": {
   "codemirror_mode": {
    "name": "ipython",
    "version": 3
   },
   "file_extension": ".py",
   "mimetype": "text/x-python",
   "name": "python",
   "nbconvert_exporter": "python",
   "pygments_lexer": "ipython3",
   "version": "3.6.3"
  }
 },
 "nbformat": 4,
 "nbformat_minor": 2
}
