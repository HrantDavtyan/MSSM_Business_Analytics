{
  "cells": [
    {
      "cell_type": "markdown",
      "source": [
        "# Homework 4 and 5\n",
        "\n",
        "**This notebook includes Homework 4 and 5 (merged).*\n",
        "\n",
        "- **Problem 1 - Superify 1** (2 points)\n",
        "  \n",
        "  For this problem create a list of 5 strings (e.g. a list consisting of words like men, women, cool etc.). Create a **for** loop that will iterate over the elements of the list. If the current element has more than 4 characters, then print that element after adding the *prefix* super and a space: e.g. superwomen. For all other cases (less than or equal to 4 characters) print that element adding the *prefix* super without any space: e.g. supercool.\n",
        "  \n",
        "- **Problem 2 - Stockplotter 1** (2 points)\n",
        "\n",
        "  Create a list of 5 stocks (e.g. [\"AAPL\",\"GOOGL\",\"IBM\",\"MSFT\",\"FB\"]. Use Quandl to download the data on those stocks from the **WIKI** database (i.e. \"WIKI/FB\") and plot the opening price for all 5 of them inside one single plot.\n",
        "  \n",
        "- **Problem 3 - Stockplotter 2** (1 point)\n",
        "\n",
        "  Define a function that will get only one argument: stock ticker (name). Once the argument is given the function must download that stock's data from Quandl (WIKI database) and plot it.\n",
        "  \n",
        "- **Problem 4 - Listpop** (2 points)\n",
        "\n",
        "  While **append()** is a function used to add an element to the list, **pop()** is a function (again available only for lists) that is used to delete an element. For example, if we have a list my_list = ['a','b','c','d'], then my_list.pop(2) will delete the 2nd (in Python terminology) element of the list: 'c'. Similarly, my_list.pop(-1) will delete the very last element of it: 'd'. The remaining list after those two operations will be my_list = ['a','b']\n",
        "  Create a while loop, that will delete elements from the stock list in Problem 2, as long as the list is not empty (i.e. the while loop must stop once the stock_list becomes empty).\n",
        "  *Note: make sure not to create an infinite loop.*\n",
        "  \n",
        "- **Problem 5 - Numlength 2** (4 points)\n",
        "\n",
        "  Create a list of positive integers with different digits (some one digit, some two digits, some three etc.). For each element in this list check whether that integer has one, two or three (or four, if you have it in your list) digits. The one digit elements to be written into a new list called one_digit, two digit elements into a list called two_digits and so on.\n",
        "  \n",
        "- **Problem 6 - Superify 2** (2 points)\n",
        "\n",
        "  Solve problem 1 with a while loop.\n",
        "  \n",
        "- **Problem 7 - Descriptive Analytics 1** (4 points)\n",
        "\n",
        "  Use Quandl to get data on Youth Unemployment in Armenia (Code: **FRED/SLUEM1524ZSARM**). Based on your data:\n",
        "    - Plot the unemployment trend over years,\n",
        "    - Plot the unemployment relative change over years,\n",
        "    - What was the unemployment rate on 2001?\n",
        "    - When did Armenia observe the highest rate of unemployment?\n",
        "    - What are the mean, mode and median of unemployment rates?\n",
        "    \n",
        "- **Problem 8 - Descriptive Analytics 2** (3 points)\n",
        "\n",
        "  Use Quandl to get data on monthly median listing property price in Armenia oer sq. foot    (Code: **ZILLOW/C25499_MLPFAH**). Based on your data:\n",
        "    - Calculate how many times the median price has been in the open range (160,170),\n",
        "    - Plot the histogram of prices with only 15 bins, some specified color and add title for the graph as well as x and y axis,\n",
        "    - Define a function that will return High, Medium or Low when the price>=170, 170>price>160, 160>=price respectively,\n",
        "    - Use apply function to create a new column in the dataframe with price classifications,\n",
        "    - Use pivot tables in pandas to calculate standard deviation of prices in each class."
      ],
      "metadata": {}
    },
    {
      "cell_type": "markdown",
      "source": [],
      "metadata": {}
    }
  ],
  "metadata": {
    "kernelspec": {
      "name": "python2",
      "language": "python",
      "display_name": "Python 2"
    },
    "kernel_info": {
      "name": "python2"
    },
    "language_info": {
      "mimetype": "text/x-python",
      "nbconvert_exporter": "python",
      "name": "python",
      "pygments_lexer": "ipython2",
      "version": "2.7.12",
      "file_extension": ".py",
      "codemirror_mode": {
        "version": 2,
        "name": "ipython"
      }
    }
  },
  "nbformat": 4,
  "nbformat_minor": 4
}