{
  "cells": [
    {
      "cell_type": "markdown",
      "source": [
        "# Case - Stock\n",
        "\n",
        "This notebook covers the data analysis case using Stock data downloaded using QUandl. Key points:\n",
        "- `iloc[a:b,c:d]` - is used to choose the rows `[a,b)` and columns `[c,d)` from out dataframe.\n",
        "- **pct_change()** is used to calculate the percentage change for a column.\n",
        "- as the very first value has no previous value, there is no percentage change that we can calculate for it, thus, we get a missing value that we need to drop.\n",
        "- to filter rows from a dataframe that satisfy certain condition, we put the condition inside `[]` brackets. If some conditions should be satisfied simultaneously we put `&` (stands for AND), if it is enough to satisfy at least one of the conditions we put `|` (stands for OR).\n",
        "- to rename columns of the dataframe we use **`data.columns =`** approach where on the right hand side we provide the list of new column names.\n",
        "- to classify change in stock price as High or Low, we define a function and apply it to the Open_change column using **`apply()`**.\n",
        "- **pivot_table()** was used to create a pivot table that will show median price for each class (Higher and Lower)."
      ],
      "metadata": {}
    },
    {
      "cell_type": "code",
      "source": [
        "import quandl #to get the data\n",
        "import pandas as pd #to maniuplate data\n",
        "import numpy as np #for math functions\n",
        "import matplotlib.pyplot as plt #for plotting\n",
        "import seaborn as sns #for plotting"
      ],
      "outputs": [],
      "execution_count": 1,
      "metadata": {}
    },
    {
      "cell_type": "code",
      "source": [
        "data = quandl.get(\"WIKI/AAPL\")"
      ],
      "outputs": [],
      "execution_count": 2,
      "metadata": {}
    },
    {
      "cell_type": "code",
      "source": [
        "data.head()"
      ],
      "outputs": [
        {
          "output_type": "execute_result",
          "execution_count": 4,
          "data": {
            "text/html": [
              "<div>\n",
              "<style scoped>\n",
              "    .dataframe tbody tr th:only-of-type {\n",
              "        vertical-align: middle;\n",
              "    }\n",
              "\n",
              "    .dataframe tbody tr th {\n",
              "        vertical-align: top;\n",
              "    }\n",
              "\n",
              "    .dataframe thead th {\n",
              "        text-align: right;\n",
              "    }\n",
              "</style>\n",
              "<table border=\"1\" class=\"dataframe\">\n",
              "  <thead>\n",
              "    <tr style=\"text-align: right;\">\n",
              "      <th></th>\n",
              "      <th>Open</th>\n",
              "      <th>High</th>\n",
              "      <th>Low</th>\n",
              "      <th>Close</th>\n",
              "      <th>Volume</th>\n",
              "      <th>Ex-Dividend</th>\n",
              "      <th>Split Ratio</th>\n",
              "      <th>Adj. Open</th>\n",
              "      <th>Adj. High</th>\n",
              "      <th>Adj. Low</th>\n",
              "      <th>Adj. Close</th>\n",
              "      <th>Adj. Volume</th>\n",
              "    </tr>\n",
              "    <tr>\n",
              "      <th>Date</th>\n",
              "      <th></th>\n",
              "      <th></th>\n",
              "      <th></th>\n",
              "      <th></th>\n",
              "      <th></th>\n",
              "      <th></th>\n",
              "      <th></th>\n",
              "      <th></th>\n",
              "      <th></th>\n",
              "      <th></th>\n",
              "      <th></th>\n",
              "      <th></th>\n",
              "    </tr>\n",
              "  </thead>\n",
              "  <tbody>\n",
              "    <tr>\n",
              "      <th>1980-12-12</th>\n",
              "      <td>28.75</td>\n",
              "      <td>28.87</td>\n",
              "      <td>28.75</td>\n",
              "      <td>28.75</td>\n",
              "      <td>2093900.0</td>\n",
              "      <td>0.0</td>\n",
              "      <td>1.0</td>\n",
              "      <td>0.422706</td>\n",
              "      <td>0.424470</td>\n",
              "      <td>0.422706</td>\n",
              "      <td>0.422706</td>\n",
              "      <td>117258400.0</td>\n",
              "    </tr>\n",
              "    <tr>\n",
              "      <th>1980-12-15</th>\n",
              "      <td>27.38</td>\n",
              "      <td>27.38</td>\n",
              "      <td>27.25</td>\n",
              "      <td>27.25</td>\n",
              "      <td>785200.0</td>\n",
              "      <td>0.0</td>\n",
              "      <td>1.0</td>\n",
              "      <td>0.402563</td>\n",
              "      <td>0.402563</td>\n",
              "      <td>0.400652</td>\n",
              "      <td>0.400652</td>\n",
              "      <td>43971200.0</td>\n",
              "    </tr>\n",
              "    <tr>\n",
              "      <th>1980-12-16</th>\n",
              "      <td>25.37</td>\n",
              "      <td>25.37</td>\n",
              "      <td>25.25</td>\n",
              "      <td>25.25</td>\n",
              "      <td>472000.0</td>\n",
              "      <td>0.0</td>\n",
              "      <td>1.0</td>\n",
              "      <td>0.373010</td>\n",
              "      <td>0.373010</td>\n",
              "      <td>0.371246</td>\n",
              "      <td>0.371246</td>\n",
              "      <td>26432000.0</td>\n",
              "    </tr>\n",
              "    <tr>\n",
              "      <th>1980-12-17</th>\n",
              "      <td>25.87</td>\n",
              "      <td>26.00</td>\n",
              "      <td>25.87</td>\n",
              "      <td>25.87</td>\n",
              "      <td>385900.0</td>\n",
              "      <td>0.0</td>\n",
              "      <td>1.0</td>\n",
              "      <td>0.380362</td>\n",
              "      <td>0.382273</td>\n",
              "      <td>0.380362</td>\n",
              "      <td>0.380362</td>\n",
              "      <td>21610400.0</td>\n",
              "    </tr>\n",
              "    <tr>\n",
              "      <th>1980-12-18</th>\n",
              "      <td>26.63</td>\n",
              "      <td>26.75</td>\n",
              "      <td>26.63</td>\n",
              "      <td>26.63</td>\n",
              "      <td>327900.0</td>\n",
              "      <td>0.0</td>\n",
              "      <td>1.0</td>\n",
              "      <td>0.391536</td>\n",
              "      <td>0.393300</td>\n",
              "      <td>0.391536</td>\n",
              "      <td>0.391536</td>\n",
              "      <td>18362400.0</td>\n",
              "    </tr>\n",
              "  </tbody>\n",
              "</table>\n",
              "</div>"
            ],
            "text/plain": [
              "             Open   High    Low  Close     Volume  Ex-Dividend  Split Ratio  \\\n",
              "Date                                                                          \n",
              "1980-12-12  28.75  28.87  28.75  28.75  2093900.0          0.0          1.0   \n",
              "1980-12-15  27.38  27.38  27.25  27.25   785200.0          0.0          1.0   \n",
              "1980-12-16  25.37  25.37  25.25  25.25   472000.0          0.0          1.0   \n",
              "1980-12-17  25.87  26.00  25.87  25.87   385900.0          0.0          1.0   \n",
              "1980-12-18  26.63  26.75  26.63  26.63   327900.0          0.0          1.0   \n",
              "\n",
              "            Adj. Open  Adj. High  Adj. Low  Adj. Close  Adj. Volume  \n",
              "Date                                                                 \n",
              "1980-12-12   0.422706   0.424470  0.422706    0.422706  117258400.0  \n",
              "1980-12-15   0.402563   0.402563  0.400652    0.400652   43971200.0  \n",
              "1980-12-16   0.373010   0.373010  0.371246    0.371246   26432000.0  \n",
              "1980-12-17   0.380362   0.382273  0.380362    0.380362   21610400.0  \n",
              "1980-12-18   0.391536   0.393300  0.391536    0.391536   18362400.0  "
            ]
          },
          "metadata": {}
        }
      ],
      "execution_count": 4,
      "metadata": {}
    },
    {
      "cell_type": "code",
      "source": [
        "# choose only first 4 columns\n",
        "small_data = data.iloc[:,0:4]"
      ],
      "outputs": [],
      "execution_count": 7,
      "metadata": {}
    },
    {
      "cell_type": "code",
      "source": [
        "small_data.head(3)"
      ],
      "outputs": [
        {
          "output_type": "execute_result",
          "execution_count": 9,
          "data": {
            "text/html": [
              "<div>\n",
              "<style scoped>\n",
              "    .dataframe tbody tr th:only-of-type {\n",
              "        vertical-align: middle;\n",
              "    }\n",
              "\n",
              "    .dataframe tbody tr th {\n",
              "        vertical-align: top;\n",
              "    }\n",
              "\n",
              "    .dataframe thead th {\n",
              "        text-align: right;\n",
              "    }\n",
              "</style>\n",
              "<table border=\"1\" class=\"dataframe\">\n",
              "  <thead>\n",
              "    <tr style=\"text-align: right;\">\n",
              "      <th></th>\n",
              "      <th>Open</th>\n",
              "      <th>High</th>\n",
              "      <th>Low</th>\n",
              "      <th>Close</th>\n",
              "    </tr>\n",
              "    <tr>\n",
              "      <th>Date</th>\n",
              "      <th></th>\n",
              "      <th></th>\n",
              "      <th></th>\n",
              "      <th></th>\n",
              "    </tr>\n",
              "  </thead>\n",
              "  <tbody>\n",
              "    <tr>\n",
              "      <th>1980-12-12</th>\n",
              "      <td>28.75</td>\n",
              "      <td>28.87</td>\n",
              "      <td>28.75</td>\n",
              "      <td>28.75</td>\n",
              "    </tr>\n",
              "    <tr>\n",
              "      <th>1980-12-15</th>\n",
              "      <td>27.38</td>\n",
              "      <td>27.38</td>\n",
              "      <td>27.25</td>\n",
              "      <td>27.25</td>\n",
              "    </tr>\n",
              "    <tr>\n",
              "      <th>1980-12-16</th>\n",
              "      <td>25.37</td>\n",
              "      <td>25.37</td>\n",
              "      <td>25.25</td>\n",
              "      <td>25.25</td>\n",
              "    </tr>\n",
              "  </tbody>\n",
              "</table>\n",
              "</div>"
            ],
            "text/plain": [
              "             Open   High    Low  Close\n",
              "Date                                  \n",
              "1980-12-12  28.75  28.87  28.75  28.75\n",
              "1980-12-15  27.38  27.38  27.25  27.25\n",
              "1980-12-16  25.37  25.37  25.25  25.25"
            ]
          },
          "metadata": {}
        }
      ],
      "execution_count": 9,
      "metadata": {}
    },
    {
      "cell_type": "code",
      "source": [
        "small_data.plot()"
      ],
      "outputs": [
        {
          "output_type": "execute_result",
          "execution_count": 10,
          "data": {
            "text/plain": [
              "<matplotlib.axes._subplots.AxesSubplot at 0x27a438ed2b0>"
            ]
          },
          "metadata": {}
        },
        {
          "output_type": "display_data",
          "data": {
            "image/png": "[encoded data removed]",
            "text/plain": [
              "<matplotlib.figure.Figure at 0x27a438f3d68>"
            ]
          },
          "metadata": {}
        }
      ],
      "execution_count": 10,
      "metadata": {}
    },
    {
      "cell_type": "code",
      "source": [
        "# calculate percentage change of hte opening price and save it\n",
        "small_data[\"Open_change\"] = small_data.Open.pct_change()"
      ],
      "outputs": [
        {
          "output_type": "stream",
          "name": "stderr",
          "text": [
            "C:\\Users\\ADStudent\\AppData\\Local\\Continuum\\anaconda3\\lib\\site-packages\\ipykernel_launcher.py:1: SettingWithCopyWarning: \n",
            "A value is trying to be set on a copy of a slice from a DataFrame.\n",
            "Try using .loc[row_indexer,col_indexer] = value instead\n",
            "\n",
            "See the caveats in the documentation: http://pandas.pydata.org/pandas-docs/stable/indexing.html#indexing-view-versus-copy\n",
            "  \"\"\"Entry point for launching an IPython kernel.\n"
          ]
        }
      ],
      "execution_count": 12,
      "metadata": {}
    },
    {
      "cell_type": "code",
      "source": [
        "small_data.head(3)"
      ],
      "outputs": [
        {
          "output_type": "execute_result",
          "execution_count": 14,
          "data": {
            "text/html": [
              "<div>\n",
              "<style scoped>\n",
              "    .dataframe tbody tr th:only-of-type {\n",
              "        vertical-align: middle;\n",
              "    }\n",
              "\n",
              "    .dataframe tbody tr th {\n",
              "        vertical-align: top;\n",
              "    }\n",
              "\n",
              "    .dataframe thead th {\n",
              "        text-align: right;\n",
              "    }\n",
              "</style>\n",
              "<table border=\"1\" class=\"dataframe\">\n",
              "  <thead>\n",
              "    <tr style=\"text-align: right;\">\n",
              "      <th></th>\n",
              "      <th>Open</th>\n",
              "      <th>High</th>\n",
              "      <th>Low</th>\n",
              "      <th>Close</th>\n",
              "      <th>Open_change</th>\n",
              "    </tr>\n",
              "    <tr>\n",
              "      <th>Date</th>\n",
              "      <th></th>\n",
              "      <th></th>\n",
              "      <th></th>\n",
              "      <th></th>\n",
              "      <th></th>\n",
              "    </tr>\n",
              "  </thead>\n",
              "  <tbody>\n",
              "    <tr>\n",
              "      <th>1980-12-12</th>\n",
              "      <td>28.75</td>\n",
              "      <td>28.87</td>\n",
              "      <td>28.75</td>\n",
              "      <td>28.75</td>\n",
              "      <td>NaN</td>\n",
              "    </tr>\n",
              "    <tr>\n",
              "      <th>1980-12-15</th>\n",
              "      <td>27.38</td>\n",
              "      <td>27.38</td>\n",
              "      <td>27.25</td>\n",
              "      <td>27.25</td>\n",
              "      <td>-0.047652</td>\n",
              "    </tr>\n",
              "    <tr>\n",
              "      <th>1980-12-16</th>\n",
              "      <td>25.37</td>\n",
              "      <td>25.37</td>\n",
              "      <td>25.25</td>\n",
              "      <td>25.25</td>\n",
              "      <td>-0.073411</td>\n",
              "    </tr>\n",
              "  </tbody>\n",
              "</table>\n",
              "</div>"
            ],
            "text/plain": [
              "             Open   High    Low  Close  Open_change\n",
              "Date                                               \n",
              "1980-12-12  28.75  28.87  28.75  28.75          NaN\n",
              "1980-12-15  27.38  27.38  27.25  27.25    -0.047652\n",
              "1980-12-16  25.37  25.37  25.25  25.25    -0.073411"
            ]
          },
          "metadata": {}
        }
      ],
      "execution_count": 14,
      "metadata": {}
    },
    {
      "cell_type": "code",
      "source": [
        "#no percentag echange for the first row (we get missing value), drop it\n",
        "small_data = small_data.dropna()\n",
        "small_data.head(3)"
      ],
      "outputs": [
        {
          "output_type": "execute_result",
          "execution_count": 15,
          "data": {
            "text/html": [
              "<div>\n",
              "<style scoped>\n",
              "    .dataframe tbody tr th:only-of-type {\n",
              "        vertical-align: middle;\n",
              "    }\n",
              "\n",
              "    .dataframe tbody tr th {\n",
              "        vertical-align: top;\n",
              "    }\n",
              "\n",
              "    .dataframe thead th {\n",
              "        text-align: right;\n",
              "    }\n",
              "</style>\n",
              "<table border=\"1\" class=\"dataframe\">\n",
              "  <thead>\n",
              "    <tr style=\"text-align: right;\">\n",
              "      <th></th>\n",
              "      <th>Open</th>\n",
              "      <th>High</th>\n",
              "      <th>Low</th>\n",
              "      <th>Close</th>\n",
              "      <th>Open_change</th>\n",
              "    </tr>\n",
              "    <tr>\n",
              "      <th>Date</th>\n",
              "      <th></th>\n",
              "      <th></th>\n",
              "      <th></th>\n",
              "      <th></th>\n",
              "      <th></th>\n",
              "    </tr>\n",
              "  </thead>\n",
              "  <tbody>\n",
              "    <tr>\n",
              "      <th>1980-12-15</th>\n",
              "      <td>27.38</td>\n",
              "      <td>27.38</td>\n",
              "      <td>27.25</td>\n",
              "      <td>27.25</td>\n",
              "      <td>-0.047652</td>\n",
              "    </tr>\n",
              "    <tr>\n",
              "      <th>1980-12-16</th>\n",
              "      <td>25.37</td>\n",
              "      <td>25.37</td>\n",
              "      <td>25.25</td>\n",
              "      <td>25.25</td>\n",
              "      <td>-0.073411</td>\n",
              "    </tr>\n",
              "    <tr>\n",
              "      <th>1980-12-17</th>\n",
              "      <td>25.87</td>\n",
              "      <td>26.00</td>\n",
              "      <td>25.87</td>\n",
              "      <td>25.87</td>\n",
              "      <td>0.019708</td>\n",
              "    </tr>\n",
              "  </tbody>\n",
              "</table>\n",
              "</div>"
            ],
            "text/plain": [
              "             Open   High    Low  Close  Open_change\n",
              "Date                                               \n",
              "1980-12-15  27.38  27.38  27.25  27.25    -0.047652\n",
              "1980-12-16  25.37  25.37  25.25  25.25    -0.073411\n",
              "1980-12-17  25.87  26.00  25.87  25.87     0.019708"
            ]
          },
          "metadata": {}
        }
      ],
      "execution_count": 15,
      "metadata": {}
    },
    {
      "cell_type": "code",
      "source": [
        "small_data.Open_change.plot()"
      ],
      "outputs": [
        {
          "output_type": "execute_result",
          "execution_count": 16,
          "data": {
            "text/plain": [
              "<matplotlib.axes._subplots.AxesSubplot at 0x27a438475f8>"
            ]
          },
          "metadata": {}
        },
        {
          "output_type": "display_data",
          "data": {
            "image/png": "[encoded data removed]",
            "text/plain": [
              "<matplotlib.figure.Figure at 0x27a438d2cf8>"
            ]
          },
          "metadata": {}
        }
      ],
      "execution_count": 16,
      "metadata": {}
    },
    {
      "cell_type": "code",
      "source": [
        "sns.distplot(small_data.Open_change)"
      ],
      "outputs": [
        {
          "output_type": "execute_result",
          "execution_count": 17,
          "data": {
            "text/plain": [
              "<matplotlib.axes._subplots.AxesSubplot at 0x27a43a1a588>"
            ]
          },
          "metadata": {}
        },
        {
          "output_type": "display_data",
          "data": {
            "image/png": "[encoded data removed]",
            "text/plain": [
              "<matplotlib.figure.Figure at 0x27a43a10eb8>"
            ]
          },
          "metadata": {}
        }
      ],
      "execution_count": 17,
      "metadata": {}
    },
    {
      "cell_type": "code",
      "source": [
        "# choose rows that present change in (-0.8,-0.4) with &\n",
        "# choose rows that present change in (-inf, -0.8) u (-0.4,+inf) with |\n",
        "condition_1 = small_data.Open_change>-0.4\n",
        "condition_2 = small_data.Open_change<-0.8\n",
        "small_data.Open_change[condition_1 & condition_2]\n",
        "small_data.Open_change[condition_1 | condition_2]"
      ],
      "outputs": [
        {
          "output_type": "execute_result",
          "execution_count": 28,
          "data": {
            "text/plain": [
              "Date\n",
              "1980-12-15   -0.047652\n",
              "1980-12-16   -0.073411\n",
              "1980-12-17    0.019708\n",
              "1980-12-18    0.029378\n",
              "1980-12-19    0.060834\n",
              "1980-12-22    0.048850\n",
              "1980-12-23    0.042187\n",
              "1980-12-24    0.052461\n",
              "1980-12-26    0.092308\n",
              "1980-12-29    0.014085\n",
              "1980-12-30   -0.020833\n",
              "1980-12-31   -0.028369\n",
              "1981-01-02    0.007299\n",
              "1981-01-05   -0.018261\n",
              "1981-01-06   -0.044287\n",
              "1981-01-07   -0.042323\n",
              "1981-01-08   -0.020323\n",
              "1981-01-09    0.049720\n",
              "1981-01-12    0.000000\n",
              "1981-01-13   -0.039210\n",
              "1981-01-14    0.000000\n",
              "1981-01-15    0.020242\n",
              "1981-01-16   -0.004160\n",
              "1981-01-19    0.056234\n",
              "1981-01-20   -0.026468\n",
              "1981-01-21    0.015625\n",
              "1981-01-22    0.011385\n",
              "1981-01-23    0.000000\n",
              "1981-01-26   -0.015211\n",
              "1981-01-27   -0.003707\n",
              "                ...   \n",
              "2018-02-13    0.021767\n",
              "2018-02-14    0.006761\n",
              "2018-02-15    0.041369\n",
              "2018-02-16    0.015136\n",
              "2018-02-20   -0.001799\n",
              "2018-02-21    0.004534\n",
              "2018-02-22   -0.005960\n",
              "2018-02-23    0.010885\n",
              "2018-02-26    0.015432\n",
              "2018-02-27    0.015594\n",
              "2018-02-28    0.000893\n",
              "2018-03-01   -0.004017\n",
              "2018-03-02   -0.032150\n",
              "2018-03-05    0.013947\n",
              "2018-03-06    0.015410\n",
              "2018-03-07   -0.016694\n",
              "2018-03-08    0.003087\n",
              "2018-03-09    0.014133\n",
              "2018-03-12    0.013093\n",
              "2018-03-13    0.012757\n",
              "2018-03-14   -0.012432\n",
              "2018-03-15   -0.010093\n",
              "2018-03-16    0.000840\n",
              "2018-03-19   -0.007445\n",
              "2018-03-20   -0.011730\n",
              "2018-03-21   -0.001141\n",
              "2018-03-22   -0.028793\n",
              "2018-03-23   -0.009471\n",
              "2018-03-26   -0.001900\n",
              "2018-03-27    0.033379\n",
              "Name: Open_change, Length: 9395, dtype: float64"
            ]
          },
          "metadata": {}
        }
      ],
      "execution_count": 28,
      "metadata": {}
    },
    {
      "cell_type": "code",
      "source": [
        "small_data.head(3)"
      ],
      "outputs": [
        {
          "output_type": "execute_result",
          "execution_count": 29,
          "data": {
            "text/html": [
              "<div>\n",
              "<style scoped>\n",
              "    .dataframe tbody tr th:only-of-type {\n",
              "        vertical-align: middle;\n",
              "    }\n",
              "\n",
              "    .dataframe tbody tr th {\n",
              "        vertical-align: top;\n",
              "    }\n",
              "\n",
              "    .dataframe thead th {\n",
              "        text-align: right;\n",
              "    }\n",
              "</style>\n",
              "<table border=\"1\" class=\"dataframe\">\n",
              "  <thead>\n",
              "    <tr style=\"text-align: right;\">\n",
              "      <th></th>\n",
              "      <th>Open</th>\n",
              "      <th>High</th>\n",
              "      <th>Low</th>\n",
              "      <th>Close</th>\n",
              "      <th>Open_change</th>\n",
              "    </tr>\n",
              "    <tr>\n",
              "      <th>Date</th>\n",
              "      <th></th>\n",
              "      <th></th>\n",
              "      <th></th>\n",
              "      <th></th>\n",
              "      <th></th>\n",
              "    </tr>\n",
              "  </thead>\n",
              "  <tbody>\n",
              "    <tr>\n",
              "      <th>1980-12-15</th>\n",
              "      <td>27.38</td>\n",
              "      <td>27.38</td>\n",
              "      <td>27.25</td>\n",
              "      <td>27.25</td>\n",
              "      <td>-0.047652</td>\n",
              "    </tr>\n",
              "    <tr>\n",
              "      <th>1980-12-16</th>\n",
              "      <td>25.37</td>\n",
              "      <td>25.37</td>\n",
              "      <td>25.25</td>\n",
              "      <td>25.25</td>\n",
              "      <td>-0.073411</td>\n",
              "    </tr>\n",
              "    <tr>\n",
              "      <th>1980-12-17</th>\n",
              "      <td>25.87</td>\n",
              "      <td>26.00</td>\n",
              "      <td>25.87</td>\n",
              "      <td>25.87</td>\n",
              "      <td>0.019708</td>\n",
              "    </tr>\n",
              "  </tbody>\n",
              "</table>\n",
              "</div>"
            ],
            "text/plain": [
              "             Open   High    Low  Close  Open_change\n",
              "Date                                               \n",
              "1980-12-15  27.38  27.38  27.25  27.25    -0.047652\n",
              "1980-12-16  25.37  25.37  25.25  25.25    -0.073411\n",
              "1980-12-17  25.87  26.00  25.87  25.87     0.019708"
            ]
          },
          "metadata": {}
        }
      ],
      "execution_count": 29,
      "metadata": {}
    },
    {
      "cell_type": "code",
      "source": [
        "#create a function to classify positive change as Higher, rest as Lower\n",
        "def classifier(x):\n",
        "    if x>0:\n",
        "        output = \"Higher\"\n",
        "    else:\n",
        "        output = \"Lower\"\n",
        "    return output"
      ],
      "outputs": [],
      "execution_count": 30,
      "metadata": {}
    },
    {
      "cell_type": "code",
      "source": [
        "#apply function above to the percentage change column\n",
        "small_data.Open_change.apply(classifier)"
      ],
      "outputs": [
        {
          "output_type": "execute_result",
          "execution_count": 32,
          "data": {
            "text/plain": [
              "Date\n",
              "1980-12-15     Lower\n",
              "1980-12-16     Lower\n",
              "1980-12-17    Higher\n",
              "1980-12-18    Higher\n",
              "1980-12-19    Higher\n",
              "1980-12-22    Higher\n",
              "1980-12-23    Higher\n",
              "1980-12-24    Higher\n",
              "1980-12-26    Higher\n",
              "1980-12-29    Higher\n",
              "1980-12-30     Lower\n",
              "1980-12-31     Lower\n",
              "1981-01-02    Higher\n",
              "1981-01-05     Lower\n",
              "1981-01-06     Lower\n",
              "1981-01-07     Lower\n",
              "1981-01-08     Lower\n",
              "1981-01-09    Higher\n",
              "1981-01-12     Lower\n",
              "1981-01-13     Lower\n",
              "1981-01-14     Lower\n",
              "1981-01-15    Higher\n",
              "1981-01-16     Lower\n",
              "1981-01-19    Higher\n",
              "1981-01-20     Lower\n",
              "1981-01-21    Higher\n",
              "1981-01-22    Higher\n",
              "1981-01-23     Lower\n",
              "1981-01-26     Lower\n",
              "1981-01-27     Lower\n",
              "               ...  \n",
              "2018-02-13    Higher\n",
              "2018-02-14    Higher\n",
              "2018-02-15    Higher\n",
              "2018-02-16    Higher\n",
              "2018-02-20     Lower\n",
              "2018-02-21    Higher\n",
              "2018-02-22     Lower\n",
              "2018-02-23    Higher\n",
              "2018-02-26    Higher\n",
              "2018-02-27    Higher\n",
              "2018-02-28    Higher\n",
              "2018-03-01     Lower\n",
              "2018-03-02     Lower\n",
              "2018-03-05    Higher\n",
              "2018-03-06    Higher\n",
              "2018-03-07     Lower\n",
              "2018-03-08    Higher\n",
              "2018-03-09    Higher\n",
              "2018-03-12    Higher\n",
              "2018-03-13    Higher\n",
              "2018-03-14     Lower\n",
              "2018-03-15     Lower\n",
              "2018-03-16    Higher\n",
              "2018-03-19     Lower\n",
              "2018-03-20     Lower\n",
              "2018-03-21     Lower\n",
              "2018-03-22     Lower\n",
              "2018-03-23     Lower\n",
              "2018-03-26     Lower\n",
              "2018-03-27    Higher\n",
              "Name: Open_change, Length: 9399, dtype: object"
            ]
          },
          "metadata": {}
        }
      ],
      "execution_count": 32,
      "metadata": {
        "collapsed": true
      }
    },
    {
      "cell_type": "code",
      "source": [
        "#complete the task above but instead of comparing with 0 compare to the median\n",
        "def classifier_2(z):\n",
        "    if z>small_data.Open.median():\n",
        "        output=\"H\"\n",
        "    else:\n",
        "        output=\"L\"\n",
        "    return output"
      ],
      "outputs": [],
      "execution_count": 34,
      "metadata": {}
    },
    {
      "cell_type": "code",
      "source": [
        "small_data.Open.apply(classifier_2)"
      ],
      "outputs": [
        {
          "output_type": "execute_result",
          "execution_count": 36,
          "data": {
            "text/plain": [
              "Date\n",
              "1980-12-15    L\n",
              "1980-12-16    L\n",
              "1980-12-17    L\n",
              "1980-12-18    L\n",
              "1980-12-19    L\n",
              "1980-12-22    L\n",
              "1980-12-23    L\n",
              "1980-12-24    L\n",
              "1980-12-26    L\n",
              "1980-12-29    L\n",
              "1980-12-30    L\n",
              "1980-12-31    L\n",
              "1981-01-02    L\n",
              "1981-01-05    L\n",
              "1981-01-06    L\n",
              "1981-01-07    L\n",
              "1981-01-08    L\n",
              "1981-01-09    L\n",
              "1981-01-12    L\n",
              "1981-01-13    L\n",
              "1981-01-14    L\n",
              "1981-01-15    L\n",
              "1981-01-16    L\n",
              "1981-01-19    L\n",
              "1981-01-20    L\n",
              "1981-01-21    L\n",
              "1981-01-22    L\n",
              "1981-01-23    L\n",
              "1981-01-26    L\n",
              "1981-01-27    L\n",
              "             ..\n",
              "2018-02-13    H\n",
              "2018-02-14    H\n",
              "2018-02-15    H\n",
              "2018-02-16    H\n",
              "2018-02-20    H\n",
              "2018-02-21    H\n",
              "2018-02-22    H\n",
              "2018-02-23    H\n",
              "2018-02-26    H\n",
              "2018-02-27    H\n",
              "2018-02-28    H\n",
              "2018-03-01    H\n",
              "2018-03-02    H\n",
              "2018-03-05    H\n",
              "2018-03-06    H\n",
              "2018-03-07    H\n",
              "2018-03-08    H\n",
              "2018-03-09    H\n",
              "2018-03-12    H\n",
              "2018-03-13    H\n",
              "2018-03-14    H\n",
              "2018-03-15    H\n",
              "2018-03-16    H\n",
              "2018-03-19    H\n",
              "2018-03-20    H\n",
              "2018-03-21    H\n",
              "2018-03-22    H\n",
              "2018-03-23    H\n",
              "2018-03-26    H\n",
              "2018-03-27    H\n",
              "Name: Open, Length: 9399, dtype: object"
            ]
          },
          "metadata": {}
        }
      ],
      "execution_count": 36,
      "metadata": {
        "collapsed": true
      }
    },
    {
      "cell_type": "code",
      "source": [
        "small_data[\"Classes\"] = np.where(small_data.Open>small_data.Open.median(),\"Higher\",\"Lower\")"
      ],
      "outputs": [
        {
          "output_type": "stream",
          "name": "stderr",
          "text": [
            "C:\\Users\\ADStudent\\AppData\\Local\\Continuum\\anaconda3\\lib\\site-packages\\ipykernel_launcher.py:1: SettingWithCopyWarning: \n",
            "A value is trying to be set on a copy of a slice from a DataFrame.\n",
            "Try using .loc[row_indexer,col_indexer] = value instead\n",
            "\n",
            "See the caveats in the documentation: http://pandas.pydata.org/pandas-docs/stable/indexing.html#indexing-view-versus-copy\n",
            "  \"\"\"Entry point for launching an IPython kernel.\n"
          ]
        }
      ],
      "execution_count": 38,
      "metadata": {
        "collapsed": true
      }
    },
    {
      "cell_type": "code",
      "source": [
        "small_data.head(3)"
      ],
      "outputs": [
        {
          "output_type": "execute_result",
          "execution_count": 39,
          "data": {
            "text/html": [
              "<div>\n",
              "<style scoped>\n",
              "    .dataframe tbody tr th:only-of-type {\n",
              "        vertical-align: middle;\n",
              "    }\n",
              "\n",
              "    .dataframe tbody tr th {\n",
              "        vertical-align: top;\n",
              "    }\n",
              "\n",
              "    .dataframe thead th {\n",
              "        text-align: right;\n",
              "    }\n",
              "</style>\n",
              "<table border=\"1\" class=\"dataframe\">\n",
              "  <thead>\n",
              "    <tr style=\"text-align: right;\">\n",
              "      <th></th>\n",
              "      <th>Open</th>\n",
              "      <th>High</th>\n",
              "      <th>Low</th>\n",
              "      <th>Close</th>\n",
              "      <th>Open_change</th>\n",
              "      <th>Classes</th>\n",
              "    </tr>\n",
              "    <tr>\n",
              "      <th>Date</th>\n",
              "      <th></th>\n",
              "      <th></th>\n",
              "      <th></th>\n",
              "      <th></th>\n",
              "      <th></th>\n",
              "      <th></th>\n",
              "    </tr>\n",
              "  </thead>\n",
              "  <tbody>\n",
              "    <tr>\n",
              "      <th>1980-12-15</th>\n",
              "      <td>27.38</td>\n",
              "      <td>27.38</td>\n",
              "      <td>27.25</td>\n",
              "      <td>27.25</td>\n",
              "      <td>-0.047652</td>\n",
              "      <td>Lower</td>\n",
              "    </tr>\n",
              "    <tr>\n",
              "      <th>1980-12-16</th>\n",
              "      <td>25.37</td>\n",
              "      <td>25.37</td>\n",
              "      <td>25.25</td>\n",
              "      <td>25.25</td>\n",
              "      <td>-0.073411</td>\n",
              "      <td>Lower</td>\n",
              "    </tr>\n",
              "    <tr>\n",
              "      <th>1980-12-17</th>\n",
              "      <td>25.87</td>\n",
              "      <td>26.00</td>\n",
              "      <td>25.87</td>\n",
              "      <td>25.87</td>\n",
              "      <td>0.019708</td>\n",
              "      <td>Lower</td>\n",
              "    </tr>\n",
              "  </tbody>\n",
              "</table>\n",
              "</div>"
            ],
            "text/plain": [
              "             Open   High    Low  Close  Open_change Classes\n",
              "Date                                                       \n",
              "1980-12-15  27.38  27.38  27.25  27.25    -0.047652   Lower\n",
              "1980-12-16  25.37  25.37  25.25  25.25    -0.073411   Lower\n",
              "1980-12-17  25.87  26.00  25.87  25.87     0.019708   Lower"
            ]
          },
          "metadata": {}
        }
      ],
      "execution_count": 39,
      "metadata": {}
    },
    {
      "cell_type": "code",
      "source": [
        "# create a pivot table to show median price for each class\n",
        "data_pivot = pd.pivot_table(data=small_data,values=\"Open\",index=\"Classes\",aggfunc=\"median\")"
      ],
      "outputs": [],
      "execution_count": 48,
      "metadata": {}
    },
    {
      "cell_type": "code",
      "source": [
        "data_pivot"
      ],
      "outputs": [
        {
          "output_type": "execute_result",
          "execution_count": 49,
          "data": {
            "text/html": [
              "<div>\n",
              "<style scoped>\n",
              "    .dataframe tbody tr th:only-of-type {\n",
              "        vertical-align: middle;\n",
              "    }\n",
              "\n",
              "    .dataframe tbody tr th {\n",
              "        vertical-align: top;\n",
              "    }\n",
              "\n",
              "    .dataframe thead th {\n",
              "        text-align: right;\n",
              "    }\n",
              "</style>\n",
              "<table border=\"1\" class=\"dataframe\">\n",
              "  <thead>\n",
              "    <tr style=\"text-align: right;\">\n",
              "      <th></th>\n",
              "      <th>Open</th>\n",
              "    </tr>\n",
              "    <tr>\n",
              "      <th>Classes</th>\n",
              "      <th></th>\n",
              "    </tr>\n",
              "  </thead>\n",
              "  <tbody>\n",
              "    <tr>\n",
              "      <th>Higher</th>\n",
              "      <td>110.12</td>\n",
              "    </tr>\n",
              "    <tr>\n",
              "      <th>Lower</th>\n",
              "      <td>27.00</td>\n",
              "    </tr>\n",
              "  </tbody>\n",
              "</table>\n",
              "</div>"
            ],
            "text/plain": [
              "           Open\n",
              "Classes        \n",
              "Higher   110.12\n",
              "Lower     27.00"
            ]
          },
          "metadata": {}
        }
      ],
      "execution_count": 49,
      "metadata": {}
    },
    {
      "cell_type": "code",
      "source": [
        "small_data.head(3)"
      ],
      "outputs": [
        {
          "output_type": "execute_result",
          "execution_count": 50,
          "data": {
            "text/html": [
              "<div>\n",
              "<style scoped>\n",
              "    .dataframe tbody tr th:only-of-type {\n",
              "        vertical-align: middle;\n",
              "    }\n",
              "\n",
              "    .dataframe tbody tr th {\n",
              "        vertical-align: top;\n",
              "    }\n",
              "\n",
              "    .dataframe thead th {\n",
              "        text-align: right;\n",
              "    }\n",
              "</style>\n",
              "<table border=\"1\" class=\"dataframe\">\n",
              "  <thead>\n",
              "    <tr style=\"text-align: right;\">\n",
              "      <th></th>\n",
              "      <th>Open</th>\n",
              "      <th>High</th>\n",
              "      <th>Low</th>\n",
              "      <th>Close</th>\n",
              "      <th>Open_change</th>\n",
              "      <th>Classes</th>\n",
              "    </tr>\n",
              "    <tr>\n",
              "      <th>Date</th>\n",
              "      <th></th>\n",
              "      <th></th>\n",
              "      <th></th>\n",
              "      <th></th>\n",
              "      <th></th>\n",
              "      <th></th>\n",
              "    </tr>\n",
              "  </thead>\n",
              "  <tbody>\n",
              "    <tr>\n",
              "      <th>1980-12-15</th>\n",
              "      <td>27.38</td>\n",
              "      <td>27.38</td>\n",
              "      <td>27.25</td>\n",
              "      <td>27.25</td>\n",
              "      <td>-0.047652</td>\n",
              "      <td>Lower</td>\n",
              "    </tr>\n",
              "    <tr>\n",
              "      <th>1980-12-16</th>\n",
              "      <td>25.37</td>\n",
              "      <td>25.37</td>\n",
              "      <td>25.25</td>\n",
              "      <td>25.25</td>\n",
              "      <td>-0.073411</td>\n",
              "      <td>Lower</td>\n",
              "    </tr>\n",
              "    <tr>\n",
              "      <th>1980-12-17</th>\n",
              "      <td>25.87</td>\n",
              "      <td>26.00</td>\n",
              "      <td>25.87</td>\n",
              "      <td>25.87</td>\n",
              "      <td>0.019708</td>\n",
              "      <td>Lower</td>\n",
              "    </tr>\n",
              "  </tbody>\n",
              "</table>\n",
              "</div>"
            ],
            "text/plain": [
              "             Open   High    Low  Close  Open_change Classes\n",
              "Date                                                       \n",
              "1980-12-15  27.38  27.38  27.25  27.25    -0.047652   Lower\n",
              "1980-12-16  25.37  25.37  25.25  25.25    -0.073411   Lower\n",
              "1980-12-17  25.87  26.00  25.87  25.87     0.019708   Lower"
            ]
          },
          "metadata": {}
        }
      ],
      "execution_count": 50,
      "metadata": {}
    },
    {
      "cell_type": "code",
      "source": [
        "#rename columns\n",
        "small_data.columns = ['Open', 'High', 'Low', 'Close', 'Pct_change', 'Classes']"
      ],
      "outputs": [],
      "execution_count": 53,
      "metadata": {}
    },
    {
      "cell_type": "code",
      "source": [
        "small_data.head()"
      ],
      "outputs": [
        {
          "output_type": "execute_result",
          "execution_count": 54,
          "data": {
            "text/html": [
              "<div>\n",
              "<style scoped>\n",
              "    .dataframe tbody tr th:only-of-type {\n",
              "        vertical-align: middle;\n",
              "    }\n",
              "\n",
              "    .dataframe tbody tr th {\n",
              "        vertical-align: top;\n",
              "    }\n",
              "\n",
              "    .dataframe thead th {\n",
              "        text-align: right;\n",
              "    }\n",
              "</style>\n",
              "<table border=\"1\" class=\"dataframe\">\n",
              "  <thead>\n",
              "    <tr style=\"text-align: right;\">\n",
              "      <th></th>\n",
              "      <th>Open</th>\n",
              "      <th>High</th>\n",
              "      <th>Low</th>\n",
              "      <th>Close</th>\n",
              "      <th>Pct_change</th>\n",
              "      <th>Classes</th>\n",
              "    </tr>\n",
              "    <tr>\n",
              "      <th>Date</th>\n",
              "      <th></th>\n",
              "      <th></th>\n",
              "      <th></th>\n",
              "      <th></th>\n",
              "      <th></th>\n",
              "      <th></th>\n",
              "    </tr>\n",
              "  </thead>\n",
              "  <tbody>\n",
              "    <tr>\n",
              "      <th>1980-12-15</th>\n",
              "      <td>27.38</td>\n",
              "      <td>27.38</td>\n",
              "      <td>27.25</td>\n",
              "      <td>27.25</td>\n",
              "      <td>-0.047652</td>\n",
              "      <td>Lower</td>\n",
              "    </tr>\n",
              "    <tr>\n",
              "      <th>1980-12-16</th>\n",
              "      <td>25.37</td>\n",
              "      <td>25.37</td>\n",
              "      <td>25.25</td>\n",
              "      <td>25.25</td>\n",
              "      <td>-0.073411</td>\n",
              "      <td>Lower</td>\n",
              "    </tr>\n",
              "    <tr>\n",
              "      <th>1980-12-17</th>\n",
              "      <td>25.87</td>\n",
              "      <td>26.00</td>\n",
              "      <td>25.87</td>\n",
              "      <td>25.87</td>\n",
              "      <td>0.019708</td>\n",
              "      <td>Lower</td>\n",
              "    </tr>\n",
              "    <tr>\n",
              "      <th>1980-12-18</th>\n",
              "      <td>26.63</td>\n",
              "      <td>26.75</td>\n",
              "      <td>26.63</td>\n",
              "      <td>26.63</td>\n",
              "      <td>0.029378</td>\n",
              "      <td>Lower</td>\n",
              "    </tr>\n",
              "    <tr>\n",
              "      <th>1980-12-19</th>\n",
              "      <td>28.25</td>\n",
              "      <td>28.38</td>\n",
              "      <td>28.25</td>\n",
              "      <td>28.25</td>\n",
              "      <td>0.060834</td>\n",
              "      <td>Lower</td>\n",
              "    </tr>\n",
              "  </tbody>\n",
              "</table>\n",
              "</div>"
            ],
            "text/plain": [
              "             Open   High    Low  Close  Pct_change Classes\n",
              "Date                                                      \n",
              "1980-12-15  27.38  27.38  27.25  27.25   -0.047652   Lower\n",
              "1980-12-16  25.37  25.37  25.25  25.25   -0.073411   Lower\n",
              "1980-12-17  25.87  26.00  25.87  25.87    0.019708   Lower\n",
              "1980-12-18  26.63  26.75  26.63  26.63    0.029378   Lower\n",
              "1980-12-19  28.25  28.38  28.25  28.25    0.060834   Lower"
            ]
          },
          "metadata": {}
        }
      ],
      "execution_count": 54,
      "metadata": {}
    },
    {
      "cell_type": "code",
      "source": [],
      "outputs": [],
      "execution_count": null,
      "metadata": {}
    }
  ],
  "metadata": {
    "kernelspec": {
      "display_name": "Python 3",
      "language": "python",
      "name": "python3"
    },
    "language_info": {
      "codemirror_mode": {
        "name": "ipython",
        "version": 3
      },
      "file_extension": ".py",
      "mimetype": "text/x-python",
      "name": "python",
      "nbconvert_exporter": "python",
      "pygments_lexer": "ipython3",
      "version": "3.6.4"
    },
    "nteract": {
      "version": "0.9.1"
    }
  },
  "nbformat": 4,
  "nbformat_minor": 2
}