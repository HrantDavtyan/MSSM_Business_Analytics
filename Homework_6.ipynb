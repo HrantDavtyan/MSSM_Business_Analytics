{
  "cells": [
    {
      "cell_type": "markdown",
      "source": [
        "# Homework 6\n",
        "\n",
        "1. Use list comprehensions to create a list of all odd postive integers less than 100.\n",
        "\n",
        "    Expected output: `[1,3,5,....,99]`\n",
        "\n",
        "2. Use list comprehensions to create a list of only Armenian city names out of hte the following list:\n",
        "    `[\"Dilijan, Armenia\", \"Quebec, Canada\",\"York, England\",\"Gyumri, Armenia\",\"Bath, England\",\"Calgary,Canada\"]`\n",
        "\n",
        "    Expected output: `[\"Dilijan, Armenia\", \"Gyumri, Armenia\"]`\n",
        "\n",
        "    Or (preferred): `[\"Dilijan\", \"Gyumri\"]`\n",
        "\n",
        "3. Unlist the following list: `[ [\"Joshua\"], [\"Janathan\"], [\"Jeremy\"] ]`\n",
        "\n",
        "    Expected output: `[\"Joshua\", \"Janathan\", \"Jeremy\"]`\n",
        "    \n",
        "4. Define a function, that will take two integers as an argument and generate a dictionary in the closed range between that integers, where `keys=integer`, `values=square of the integer`.\n",
        "\n",
        "    Example function: ``dict_generator(2,5)``\n",
        "    \n",
        "    Example output: ``{2:4,3:9,4:16,5:25}``\n",
        "    \n",
        "5. Create a sample dictionary, where vaues are positive integers. Write a function that will calculate the median of that values.\n",
        "\n",
        "    Example dictionary: ``{2:4,3:9,4:16,5:25,6:36}``\n",
        "    \n",
        "    Example output: ``16``"
      ],
      "metadata": {}
    }
  ],
  "metadata": {
    "kernel_info": {
      "name": "python2"
    },
    "language_info": {
      "mimetype": "text/x-python",
      "nbconvert_exporter": "python",
      "name": "python",
      "pygments_lexer": "ipython2",
      "version": "2.7.13",
      "file_extension": ".py",
      "codemirror_mode": {
        "version": 2,
        "name": "ipython"
      }
    },
    "kernelspec": {
      "name": "python2",
      "language": "python",
      "display_name": "Python 2"
    },
    "nteract": {
      "version": "0.10.0"
    }
  },
  "nbformat": 4,
  "nbformat_minor": 4
}