{
  "cells": [
    {
      "cell_type": "markdown",
      "source": [
        "# Disctionaries and List comprehensions\n",
        "\n",
        "This notebook shortly introduces two points not covered before:\n",
        "- Dictionaries: data type, similar to lists, but defined using **`{}`** instead of **`[]`**, which apart from values provide keys as well.\n",
        "- List comprehensions: nice method to put loops (for or while) or if/else statements in one line."
      ],
      "metadata": {}
    },
    {
      "cell_type": "markdown",
      "source": [
        "### Dictionaries"
      ],
      "metadata": {}
    },
    {
      "cell_type": "code",
      "source": [
        "# list of names: we create two lists to be able to distinguish males/females\n",
        "male_names = [\"John\",\"Jack\",\"James\"]\n",
        "female_names = [\"Kim\",\"Kate\",\"Katherina\"]"
      ],
      "outputs": [],
      "execution_count": 2,
      "metadata": {}
    },
    {
      "cell_type": "code",
      "source": [
        "male_names"
      ],
      "outputs": [
        {
          "output_type": "execute_result",
          "execution_count": 3,
          "data": {
            "text/plain": [
              "['John', 'Jack', 'James']"
            ]
          },
          "metadata": {}
        }
      ],
      "execution_count": 3,
      "metadata": {}
    },
    {
      "cell_type": "code",
      "source": [
        "#disctionary does that inline using \"male\" and \"fenale\" as keys\n",
        "names = {\"male\":[\"John\",\"Jack\",\"James\"],\"female\":[\"Kim\",\"Kate\",\"Katherina\"]} "
      ],
      "outputs": [],
      "execution_count": 5,
      "metadata": {}
    },
    {
      "cell_type": "code",
      "source": [
        "type(names)"
      ],
      "outputs": [
        {
          "output_type": "execute_result",
          "execution_count": 6,
          "data": {
            "text/plain": [
              "dict"
            ]
          },
          "metadata": {}
        }
      ],
      "execution_count": 6,
      "metadata": {}
    },
    {
      "cell_type": "code",
      "source": [
        "print(names)"
      ],
      "outputs": [
        {
          "output_type": "stream",
          "name": "stdout",
          "text": [
            "{'male': ['John', 'Jack', 'James'], 'female': ['Kim', 'Kate', 'Katherina']}\n"
          ]
        }
      ],
      "execution_count": 7,
      "metadata": {}
    },
    {
      "cell_type": "code",
      "source": [
        "#print only females\n",
        "names[\"female\"]"
      ],
      "outputs": [
        {
          "output_type": "execute_result",
          "execution_count": 9,
          "data": {
            "text/plain": [
              "['Kim', 'Kate', 'Katherina']"
            ]
          },
          "metadata": {}
        }
      ],
      "execution_count": 9,
      "metadata": {}
    },
    {
      "cell_type": "code",
      "source": [
        "#one cannot select a component of a disctionary by index\n",
        "names[0]"
      ],
      "outputs": [
        {
          "output_type": "error",
          "ename": "KeyError",
          "evalue": "0",
          "traceback": [
            "\u001b[1;31m-------------------------------------------------------\u001b[0m",
            "\u001b[1;31mKeyError\u001b[0m              Traceback (most recent call last)",
            "\u001b[1;32m<ipython-input-10-d55c7c28fed3>\u001b[0m in \u001b[0;36m<module>\u001b[1;34m()\u001b[0m\n\u001b[1;32m----> 1\u001b[1;33m \u001b[0mnames\u001b[0m\u001b[1;33m[\u001b[0m\u001b[1;36m0\u001b[0m\u001b[1;33m]\u001b[0m\u001b[1;33m\u001b[0m\u001b[0m\n\u001b[0m",
            "\u001b[1;31mKeyError\u001b[0m: 0"
          ]
        }
      ],
      "execution_count": 10,
      "metadata": {}
    },
    {
      "cell_type": "code",
      "source": [
        "#lists available keys in the disctionary\n",
        "names.keys()"
      ],
      "outputs": [
        {
          "output_type": "execute_result",
          "execution_count": 11,
          "data": {
            "text/plain": [
              "dict_keys(['male', 'female'])"
            ]
          },
          "metadata": {}
        }
      ],
      "execution_count": 11,
      "metadata": {}
    },
    {
      "cell_type": "markdown",
      "source": [
        "### List comprehensions"
      ],
      "metadata": {}
    },
    {
      "cell_type": "code",
      "source": [
        "#create a new list with male names with Mr, in front\n",
        "#Task 1: use for loop (3 lines of code)\n",
        "#Task 2: use list comprehension (1 line)\n",
        "\n",
        "#Task 1\n",
        "mr_names = []\n",
        "for i in male_names:\n",
        "    mr_names.append(\"Mr. \"+i)"
      ],
      "outputs": [],
      "execution_count": 15,
      "metadata": {}
    },
    {
      "cell_type": "code",
      "source": [
        "print(mr_names)"
      ],
      "outputs": [
        {
          "output_type": "stream",
          "name": "stdout",
          "text": [
            "['Mr. John', 'Mr. Jack', 'Mr. James']\n"
          ]
        }
      ],
      "execution_count": 16,
      "metadata": {}
    },
    {
      "cell_type": "code",
      "source": [
        "#Task 2\n",
        "mr_names_2 = [\"Mr. \"+i for i in male_names]"
      ],
      "outputs": [],
      "execution_count": 17,
      "metadata": {}
    },
    {
      "cell_type": "code",
      "source": [
        "print(mr_names_2)"
      ],
      "outputs": [
        {
          "output_type": "stream",
          "name": "stdout",
          "text": [
            "['Mr. John', 'Mr. Jack', 'Mr. James']\n"
          ]
        }
      ],
      "execution_count": 18,
      "metadata": {}
    },
    {
      "cell_type": "code",
      "source": [
        "#square up integers from 1 to 10\n",
        "\n",
        "#Task 1: use for loop (3 lines of code)\n",
        "my_list = []\n",
        "for i in range(1,11):\n",
        "    my_list.append(i**2)"
      ],
      "outputs": [],
      "execution_count": 20,
      "metadata": {}
    },
    {
      "cell_type": "code",
      "source": [
        "#Task 2: use list comprehension (1 line)\n",
        "my_list = [i**2 for i in range(1,11)]"
      ],
      "outputs": [],
      "execution_count": 23,
      "metadata": {}
    },
    {
      "cell_type": "code",
      "source": [
        "print(my_list)"
      ],
      "outputs": [
        {
          "output_type": "stream",
          "name": "stdout",
          "text": [
            "[1, 4, 9, 16, 25, 36, 49, 64, 81, 100]\n"
          ]
        }
      ],
      "execution_count": 24,
      "metadata": {}
    },
    {
      "cell_type": "code",
      "source": [
        "#use list comprehension to get superwomen\n",
        "females = [\"super \"+i for i in female_names]"
      ],
      "outputs": [],
      "execution_count": 25,
      "metadata": {}
    },
    {
      "cell_type": "code",
      "source": [
        "print(females)"
      ],
      "outputs": [
        {
          "output_type": "stream",
          "name": "stdout",
          "text": [
            "['super Kim', 'super Kate', 'super Katherina']\n"
          ]
        }
      ],
      "execution_count": 26,
      "metadata": {}
    },
    {
      "cell_type": "code",
      "source": [],
      "outputs": [],
      "execution_count": null,
      "metadata": {}
    }
  ],
  "metadata": {
    "kernelspec": {
      "display_name": "Python 3",
      "language": "python",
      "name": "python3"
    },
    "language_info": {
      "codemirror_mode": {
        "name": "ipython",
        "version": 3
      },
      "file_extension": ".py",
      "mimetype": "text/x-python",
      "name": "python",
      "nbconvert_exporter": "python",
      "pygments_lexer": "ipython3",
      "version": "3.6.4"
    },
    "nteract": {
      "version": "0.9.1"
    }
  },
  "nbformat": 4,
  "nbformat_minor": 2
}