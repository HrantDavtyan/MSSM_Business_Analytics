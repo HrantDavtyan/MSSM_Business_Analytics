{
  "cells": [
    {
      "cell_type": "markdown",
      "source": [
        "# Class 1 - introduction to Python\n",
        "\n",
        "To start coding one must:\n",
        "- Open command prompt (black terminal),\n",
        "- Type **jupyter notebook**,\n",
        "- Wait until it is shown in the borwser and open new notebook.\n",
        "- P.S. to run the code just press **shift+enter** on the keyboard.\n",
        "\n",
        "In this lecture different data types in Python are covered (integers, float, string and list), as well as the 3 main building blocks were introduced (for loop, while loop, if/else statements).\n",
        "\n",
        "**Definitions**\n",
        "- Integer - just an integer number (without decimal points, e.g. 5),\n",
        "- Float - A nubmer that can both be an integer and have decimal points (e.g. 5.5),\n",
        "- String - text, which should always be inside quotes (single or double, not important),\n",
        "- List - collection of any type of elements (strings, floats etc.), is defined by **[ ]**\n",
        "\n",
        "- For loop - automates whatever is written inside for the mentioned number of times (like dragging down in Excel),\n",
        "- While loop - automates whatever is written inside while a condition is satisfied (like double-clicking in Excel),\n",
        "- If/else - checks conditions and performs actions accordingly (like IF in Excel).\n",
        "\n",
        "**Some functions covered below are:**\n",
        "- print() - prints the content,\n",
        "- type() - checks the type of the given argument (list or string etc.)\n",
        "- range() - creates range of integers (e.g. range(5) will provide integetrs from 0 to 5)\n",
        "\n",
        "Users can also create functinos by using **def** keyword. One may want to create functinos to use them in future with different arguments, like we did with **Superify()**.\n",
        "\n",
        "**Some notes:**\n",
        "- It is important to always check and learn the type of the variable, as othjerwise to may not know what functinos you can or cannot use.\n",
        "- One can merge strings in python by just putting **+** in between.\n",
        "- **=** sign assigns values on the right to the left, so to check a condition inside if/else, one needs to put **==**.\n",
        "- Enumeration in Python starts from 0, i.e. the first element in the list is element with idnex 0.\n",
        "- To select all elements in the list until element 5 (5 in Pythonic, 6 in humanoid terms), one should put the list name and **[0:6]**.\n",
        "- **i** inside a for loop is a temporary variable, you may call it anything else, just be consistent inside the loop.\n",
        "- Tabulation is important: loops will not work if the loop content is not tabulated forward by 4 spaces.\n",
        "\n\nBelow is the classroom code with classroom comments, nothing additionals."
      ],
      "metadata": {}
    },
    {
      "cell_type": "code",
      "source": [
        "# +, -, *, /, **, %\n",
        "print(5+5)\n",
        "print(5-5)\n",
        "print(5*5)\n",
        "print(5/5)\n",
        "print(5**5)\n",
        "# % sign stands for modulus and calculates reminder after division\n",
        "print(5%5)"
      ],
      "outputs": [
        {
          "output_type": "stream",
          "name": "stdout",
          "text": [
            "10\n",
            "0\n",
            "25\n",
            "1.0\n",
            "3125\n",
            "0\n"
          ]
        }
      ],
      "execution_count": 7,
      "metadata": {}
    },
    {
      "cell_type": "code",
      "source": [
        "my_var = 5.05"
      ],
      "outputs": [],
      "execution_count": 13,
      "metadata": {}
    },
    {
      "cell_type": "code",
      "source": [
        "print(my_var)"
      ],
      "outputs": [
        {
          "output_type": "stream",
          "name": "stdout",
          "text": [
            "5.05\n"
          ]
        }
      ],
      "execution_count": 14,
      "metadata": {}
    },
    {
      "cell_type": "code",
      "source": [
        "type(my_var)"
      ],
      "outputs": [
        {
          "output_type": "execute_result",
          "execution_count": 15,
          "data": {
            "text/plain": [
              "float"
            ]
          },
          "metadata": {}
        }
      ],
      "execution_count": 15,
      "metadata": {}
    },
    {
      "cell_type": "code",
      "source": [
        "first_name = 'Hrant '\n",
        "last_name = \"Davtyan\"\n",
        "type(first_name)"
      ],
      "outputs": [
        {
          "output_type": "execute_result",
          "execution_count": 23,
          "data": {
            "text/plain": [
              "str"
            ]
          },
          "metadata": {}
        }
      ],
      "execution_count": 23,
      "metadata": {}
    },
    {
      "cell_type": "code",
      "source": [
        "full_name = first_name + \" \" + last_name\n",
        "print(full_name)"
      ],
      "outputs": [
        {
          "output_type": "stream",
          "name": "stdout",
          "text": [
            "Hrant  Davtyan\n"
          ]
        }
      ],
      "execution_count": 25,
      "metadata": {}
    },
    {
      "cell_type": "code",
      "source": [
        "float(\"5\")"
      ],
      "outputs": [
        {
          "output_type": "execute_result",
          "execution_count": 28,
          "data": {
            "text/plain": [
              "5.0"
            ]
          },
          "metadata": {}
        }
      ],
      "execution_count": 28,
      "metadata": {}
    },
    {
      "cell_type": "code",
      "source": [
        "int(5.8)"
      ],
      "outputs": [
        {
          "output_type": "execute_result",
          "execution_count": 30,
          "data": {
            "text/plain": [
              "5"
            ]
          },
          "metadata": {}
        }
      ],
      "execution_count": 30,
      "metadata": {}
    },
    {
      "cell_type": "code",
      "source": [
        "my_list = [first_name,last_name,my_var]\n",
        "print(my_list)"
      ],
      "outputs": [
        {
          "output_type": "stream",
          "name": "stdout",
          "text": [
            "['Hrant ', 'Davtyan', 5.05]\n"
          ]
        }
      ],
      "execution_count": 31,
      "metadata": {}
    },
    {
      "cell_type": "code",
      "source": [
        "type(my_list)"
      ],
      "outputs": [
        {
          "output_type": "execute_result",
          "execution_count": 32,
          "data": {
            "text/plain": [
              "list"
            ]
          },
          "metadata": {}
        }
      ],
      "execution_count": 32,
      "metadata": {}
    },
    {
      "cell_type": "code",
      "source": [
        "names = [\"John\",\"Jack\",\"James\",\"Jimmy\"]"
      ],
      "outputs": [],
      "execution_count": 33,
      "metadata": {}
    },
    {
      "cell_type": "code",
      "source": [
        "names[0] #slelects very first element of the list"
      ],
      "outputs": [
        {
          "output_type": "execute_result",
          "execution_count": 34,
          "data": {
            "text/plain": [
              "'John'"
            ]
          },
          "metadata": {}
        }
      ],
      "execution_count": 34,
      "metadata": {}
    },
    {
      "cell_type": "code",
      "source": [
        "names[-1]"
      ],
      "outputs": [
        {
          "output_type": "execute_result",
          "execution_count": 35,
          "data": {
            "text/plain": [
              "'Jimmy'"
            ]
          },
          "metadata": {}
        }
      ],
      "execution_count": 35,
      "metadata": {}
    },
    {
      "cell_type": "code",
      "source": [
        "names[1:3]"
      ],
      "outputs": [
        {
          "output_type": "execute_result",
          "execution_count": 39,
          "data": {
            "text/plain": [
              "['Jack', 'James']"
            ]
          },
          "metadata": {}
        }
      ],
      "execution_count": 39,
      "metadata": {}
    },
    {
      "cell_type": "code",
      "source": [
        "len(names)"
      ],
      "outputs": [
        {
          "output_type": "execute_result",
          "execution_count": 40,
          "data": {
            "text/plain": [
              "4"
            ]
          },
          "metadata": {}
        }
      ],
      "execution_count": 40,
      "metadata": {}
    },
    {
      "cell_type": "code",
      "source": [
        "names.append(\"Joroh\")"
      ],
      "outputs": [],
      "execution_count": 41,
      "metadata": {}
    },
    {
      "cell_type": "code",
      "source": [
        "print(names)"
      ],
      "outputs": [
        {
          "output_type": "stream",
          "name": "stdout",
          "text": [
            "['John', 'Jack', 'James', 'Jimmy', 'Joroh']\n"
          ]
        }
      ],
      "execution_count": 42,
      "metadata": {}
    },
    {
      "cell_type": "code",
      "source": [
        "names.sort()"
      ],
      "outputs": [],
      "execution_count": 43,
      "metadata": {}
    },
    {
      "cell_type": "code",
      "source": [
        "print(names)"
      ],
      "outputs": [
        {
          "output_type": "stream",
          "name": "stdout",
          "text": [
            "['Jack', 'James', 'Jimmy', 'John', 'Joroh']\n"
          ]
        }
      ],
      "execution_count": 44,
      "metadata": {}
    },
    {
      "cell_type": "code",
      "source": [
        "full_name[0]"
      ],
      "outputs": [
        {
          "output_type": "execute_result",
          "execution_count": 46,
          "data": {
            "text/plain": [
              "'H'"
            ]
          },
          "metadata": {}
        }
      ],
      "execution_count": 46,
      "metadata": {}
    },
    {
      "cell_type": "code",
      "source": [
        "full_name = full_name.upper()"
      ],
      "outputs": [],
      "execution_count": 61,
      "metadata": {}
    },
    {
      "cell_type": "code",
      "source": [
        "print(full_name)"
      ],
      "outputs": [
        {
          "output_type": "stream",
          "name": "stdout",
          "text": [
            "HRANT  DAVTYAN\n"
          ]
        }
      ],
      "execution_count": 62,
      "metadata": {}
    },
    {
      "cell_type": "code",
      "source": [
        "full_name.find(\"T\")"
      ],
      "outputs": [
        {
          "output_type": "execute_result",
          "execution_count": 64,
          "data": {
            "text/plain": [
              "4"
            ]
          },
          "metadata": {}
        }
      ],
      "execution_count": 64,
      "metadata": {}
    },
    {
      "cell_type": "code",
      "source": [
        "# print(), len(), type(), append()\n",
        "# find(), sort(), upper()"
      ],
      "outputs": [],
      "execution_count": 65,
      "metadata": {}
    },
    {
      "cell_type": "code",
      "source": [
        "range(1,10,2) # range(start,end,step)"
      ],
      "outputs": [
        {
          "output_type": "execute_result",
          "execution_count": 68,
          "data": {
            "text/plain": [
              "range(1, 10, 2)"
            ]
          },
          "metadata": {}
        }
      ],
      "execution_count": 68,
      "metadata": {}
    },
    {
      "cell_type": "code",
      "source": [
        "for each_name in names:\n",
        "    print(\"Super\" + \" \" + each_name)"
      ],
      "outputs": [
        {
          "output_type": "stream",
          "name": "stdout",
          "text": [
            "Super Jack\n",
            "Super James\n",
            "Super Jimmy\n",
            "Super John\n",
            "Super Joroh\n"
          ]
        }
      ],
      "execution_count": 72,
      "metadata": {}
    },
    {
      "cell_type": "code",
      "source": [
        "for i in range(1,10,2):\n",
        "    print(i**3)"
      ],
      "outputs": [
        {
          "output_type": "stream",
          "name": "stdout",
          "text": [
            "1\n",
            "27\n",
            "125\n",
            "343\n",
            "729\n"
          ]
        }
      ],
      "execution_count": 74,
      "metadata": {}
    },
    {
      "cell_type": "code",
      "source": [
        "#for - make names uppercase\n",
        "#while - same\n",
        "#if/else - print male/female names\n",
        "#def - superify, classify name gender\n"
      ],
      "outputs": [],
      "execution_count": null,
      "metadata": {}
    },
    {
      "cell_type": "code",
      "source": [
        "names_up = []\n",
        "for i in names:\n",
        "    names_up.append(i.upper())"
      ],
      "outputs": [],
      "execution_count": 79,
      "metadata": {}
    },
    {
      "cell_type": "code",
      "source": [
        "print(names_up)"
      ],
      "outputs": [
        {
          "output_type": "stream",
          "name": "stdout",
          "text": [
            "['JACK', 'JAMES', 'JIMMY', 'JOHN', 'JOROH']\n"
          ]
        }
      ],
      "execution_count": 80,
      "metadata": {}
    },
    {
      "cell_type": "code",
      "source": [
        "i=1\n",
        "while i<10:\n",
        "    print(i**3)\n",
        "    i = i + 2"
      ],
      "outputs": [
        {
          "output_type": "stream",
          "name": "stdout",
          "text": [
            "1\n",
            "27\n",
            "125\n",
            "343\n",
            "729\n"
          ]
        }
      ],
      "execution_count": 83,
      "metadata": {}
    },
    {
      "cell_type": "code",
      "source": [
        "full_names = ['Jack', 'James', 'Jimmy', 'John', 'Joroh',\n",
        "              \"Kate\",\"Karen\",\"Kim\",\"Kristine\",\"Kathred\"]"
      ],
      "outputs": [],
      "execution_count": 84,
      "metadata": {}
    },
    {
      "cell_type": "code",
      "source": [
        "if 3>3:\n",
        "    print(\"Greater\")\n",
        "elif 3==3:\n",
        "    print(\"Equal\")\n",
        "else:\n",
        "    print(\"Smaller\")"
      ],
      "outputs": [
        {
          "output_type": "stream",
          "name": "stdout",
          "text": [
            "Equal\n"
          ]
        }
      ],
      "execution_count": 91,
      "metadata": {}
    },
    {
      "cell_type": "code",
      "source": [
        "name = \"Jack\"\n",
        "if name[0]==\"J\":\n",
        "    print(\"Male\")\n",
        "elif name[0]==\"K\":\n",
        "    print(\"Female\")\n",
        "else:\n",
        "    print(\"I don't know\")"
      ],
      "outputs": [
        {
          "output_type": "stream",
          "name": "stdout",
          "text": [
            "Male\n"
          ]
        }
      ],
      "execution_count": 96,
      "metadata": {}
    },
    {
      "cell_type": "code",
      "source": [
        "for i in full_names:\n",
        "    if i[0]==\"J\":\n",
        "        print(\"Male\")\n",
        "    elif i[0]==\"K\":\n",
        "        print(\"Female\")\n",
        "    else:\n",
        "        print(\"I don't know\")"
      ],
      "outputs": [
        {
          "output_type": "stream",
          "name": "stdout",
          "text": [
            "Male\n",
            "Male\n",
            "Male\n",
            "Male\n",
            "Male\n",
            "Female\n",
            "Female\n",
            "Female\n",
            "Female\n",
            "Female\n"
          ]
        }
      ],
      "execution_count": 98,
      "metadata": {}
    },
    {
      "cell_type": "code",
      "source": [
        "def sq(num):\n",
        "    return num**2"
      ],
      "outputs": [],
      "execution_count": 99,
      "metadata": {}
    },
    {
      "cell_type": "code",
      "source": [
        "sq(100)"
      ],
      "outputs": [
        {
          "output_type": "execute_result",
          "execution_count": 102,
          "data": {
            "text/plain": [
              "10000"
            ]
          },
          "metadata": {}
        }
      ],
      "execution_count": 102,
      "metadata": {}
    },
    {
      "cell_type": "code",
      "source": [
        "def superify(text):\n",
        "    return \"Super\"+text"
      ],
      "outputs": [],
      "execution_count": 103,
      "metadata": {}
    },
    {
      "cell_type": "code",
      "source": [
        "superify(\"start\")"
      ],
      "outputs": [
        {
          "output_type": "execute_result",
          "execution_count": 108,
          "data": {
            "text/plain": [
              "'Superstart'"
            ]
          },
          "metadata": {}
        }
      ],
      "execution_count": 108,
      "metadata": {}
    },
    {
      "cell_type": "code",
      "source": [
        "def gender_detector(name):\n",
        "    if name[0]==\"J\":\n",
        "        return \"Male\"\n",
        "    elif name[0]==\"K\":\n",
        "        return \"Female\"\n",
        "    else:\n",
        "        return \"I don't know\""
      ],
      "outputs": [],
      "execution_count": 109,
      "metadata": {}
    },
    {
      "cell_type": "code",
      "source": [
        "gender_detector(\"Hellen\")"
      ],
      "outputs": [
        {
          "output_type": "execute_result",
          "execution_count": 112,
          "data": {
            "text/plain": [
              "\"I don't know\""
            ]
          },
          "metadata": {}
        }
      ],
      "execution_count": 112,
      "metadata": {}
    },
    {
      "cell_type": "code",
      "source": [
        "import numpy"
      ],
      "outputs": [],
      "execution_count": 114,
      "metadata": {}
    },
    {
      "cell_type": "code",
      "source": [
        "numpy.sqrt(25)"
      ],
      "outputs": [
        {
          "output_type": "execute_result",
          "execution_count": 115,
          "data": {
            "text/plain": [
              "5.0"
            ]
          },
          "metadata": {}
        }
      ],
      "execution_count": 115,
      "metadata": {}
    },
    {
      "cell_type": "code",
      "source": [
        "import this"
      ],
      "outputs": [
        {
          "output_type": "stream",
          "name": "stdout",
          "text": [
            "The Zen of Python, by Tim Peters\n",
            "\n",
            "Beautiful is better than ugly.\n",
            "Explicit is better than implicit.\n",
            "Simple is better than complex.\n",
            "Complex is better than complicated.\n",
            "Flat is better than nested.\n",
            "Sparse is better than dense.\n",
            "Readability counts.\n",
            "Special cases aren't special enough to break the rules.\n",
            "Although practicality beats purity.\n",
            "Errors should never pass silently.\n",
            "Unless explicitly silenced.\n",
            "In the face of ambiguity, refuse the temptation to guess.\n",
            "There should be one-- and preferably only one --obvious way to do it.\n",
            "Although that way may not be obvious at first unless you're Dutch.\n",
            "Now is better than never.\n",
            "Although never is often better than *right* now.\n",
            "If the implementation is hard to explain, it's a bad idea.\n",
            "If the implementation is easy to explain, it may be a good idea.\n",
            "Namespaces are one honking great idea -- let's do more of those!\n"
          ]
        }
      ],
      "execution_count": 116,
      "metadata": {}
    },
    {
      "cell_type": "code",
      "source": [],
      "outputs": [],
      "execution_count": null,
      "metadata": {}
    }
  ],
  "metadata": {
    "kernelspec": {
      "name": "python3",
      "language": "python",
      "display_name": "Python 3"
    },
    "language_info": {
      "name": "python",
      "version": "3.6.3",
      "mimetype": "text/x-python",
      "codemirror_mode": {
        "name": "ipython",
        "version": 3
      },
      "pygments_lexer": "ipython3",
      "nbconvert_exporter": "python",
      "file_extension": ".py"
    },
    "kernel_info": {
      "name": "python3"
    }
  },
  "nbformat": 4,
  "nbformat_minor": 2
}